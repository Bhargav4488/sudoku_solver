{
 "cells": [
  {
   "cell_type": "code",
   "execution_count": 1,
   "metadata": {},
   "outputs": [],
   "source": [
    "import cv2\n",
    "import numpy as np\n",
    "import matplotlib.pyplot as plt"
   ]
  },
  {
   "cell_type": "code",
   "execution_count": 2,
   "metadata": {},
   "outputs": [],
   "source": [
    "def plot_many_images(images, titles, rows=1, columns=2):\n",
    "\t\"\"\"Plots each image in a given list in a grid format using Matplotlib.\"\"\"\n",
    "\tfor i, image in enumerate(images):\n",
    "\t\tplt.subplot(rows, columns, i+1)\n",
    "\t\tplt.imshow(image, 'gray')\n",
    "\t\tplt.title(titles[i])\n",
    "\t\tplt.xticks([]), plt.yticks([])  # Hide tick marks\n",
    "\tplt.show()"
   ]
  },
  {
   "cell_type": "code",
   "execution_count": 3,
   "metadata": {},
   "outputs": [],
   "source": [
    "def pre_process_image(img, skip_dilate=False):\n",
    "    proc = cv2.GaussianBlur(img.copy(), (9, 9), 0)\n",
    "    proc = cv2.adaptiveThreshold(proc, 255, cv2.ADAPTIVE_THRESH_GAUSSIAN_C, cv2.THRESH_BINARY, 11, 2)\n",
    "    proc = cv2.bitwise_not(proc, proc)\n",
    "\n",
    "    #if not skip_dilate:\n",
    "    #    kernel = np.array([[0,1,0],[1,1,1],[0,1,0]],np.uint8)\n",
    "    #    proc = cv2.dilate(proc, kernel,iterations=1)\n",
    "    \n",
    "    return proc"
   ]
  },
  {
   "cell_type": "code",
   "execution_count": 4,
   "metadata": {},
   "outputs": [],
   "source": [
    "import operator\n",
    "\n",
    "def find_corners_of_largest_polygon(img):\n",
    "\t\"\"\"Finds the 4 extreme corners of the largest contour in the image.\"\"\"\n",
    "\tcontours,_ = cv2.findContours(img.copy(), cv2.RETR_EXTERNAL, cv2.CHAIN_APPROX_SIMPLE)  # Find contours\n",
    "\tcontours = sorted(contours, key=cv2.contourArea, reverse=True)  # Sort by area, descending\n",
    "\tpolygon = contours[0]  # Largest image\n",
    "\n",
    "\n",
    "\tbottom_right, _ = max(enumerate([pt[0][0] + pt[0][1] for pt in polygon]), key=operator.itemgetter(1))\n",
    "\ttop_left, _ = min(enumerate([pt[0][0] + pt[0][1] for pt in polygon]), key=operator.itemgetter(1))\n",
    "\tbottom_left, _ = min(enumerate([pt[0][0] - pt[0][1] for pt in polygon]), key=operator.itemgetter(1))\n",
    "\ttop_right, _ = max(enumerate([pt[0][0] - pt[0][1] for pt in polygon]), key=operator.itemgetter(1))\n",
    "\n",
    "\n",
    "\treturn [polygon[top_left][0], polygon[top_right][0], polygon[bottom_right][0], polygon[bottom_left][0]]\n",
    "\n",
    "\n"
   ]
  },
  {
   "cell_type": "code",
   "execution_count": 5,
   "metadata": {},
   "outputs": [],
   "source": [
    "def display_points(in_img, points, radius=5, colour=(0, 0, 255)):\n",
    "\t\"\"\"Draws circular points on an image.\"\"\"\n",
    "\timg = in_img.copy()\n",
    "\n",
    "\t# Dynamically change to a colour image if necessary\n",
    "\tif len(colour) == 3:\n",
    "\t\tif len(img.shape) == 2:\n",
    "\t\t\timg = cv2.cvtColor(img, cv2.COLOR_GRAY2BGR)\n",
    "\t\telif img.shape[2] == 1:\n",
    "\t\t\timg = cv2.cvtColor(img, cv2.COLOR_GRAY2BGR)\n",
    "\n",
    "\tfor point in points:\n",
    "\t\timg = cv2.circle(img, tuple(int(x) for x in point), radius, colour, -1)\n",
    "\treturn img"
   ]
  },
  {
   "cell_type": "code",
   "execution_count": 6,
   "metadata": {},
   "outputs": [],
   "source": [
    "def distance_between(p1, p2):\n",
    "\t\"\"\"Returns the scalar distance between two points\"\"\"\n",
    "\ta = p2[0] - p1[0]\n",
    "\tb = p2[1] - p1[1]\n",
    "\treturn np.sqrt((a ** 2) + (b ** 2))\n",
    "\n",
    "\n",
    "def crop_and_warp(img, crop_rect):\n",
    "\t\"\"\"Crops and warps a rectangular section from an image into a square of similar size.\"\"\"\n",
    "\n",
    "\t# Rectangle described by top left, top right, bottom right and bottom left points\n",
    "\ttop_left, top_right, bottom_right, bottom_left = crop_rect[0], crop_rect[1], crop_rect[2], crop_rect[3]\n",
    "\n",
    "\t# Explicitly set the data type to float32 or `getPerspectiveTransform` will throw an error\n",
    "\tsrc = np.array([top_left, top_right, bottom_right, bottom_left], dtype='float32')\n",
    "\n",
    "\t# Get the longest side in the rectangle\n",
    "\tside = max([\n",
    "\t\tdistance_between(bottom_right, top_right),\n",
    "\t\tdistance_between(top_left, bottom_left),\n",
    "\t\tdistance_between(bottom_right, bottom_left),\n",
    "\t\tdistance_between(top_left, top_right)\n",
    "\t])\n",
    "\n",
    "\t# Describe a square with side of the calculated length, this is the new perspective we want to warp to\n",
    "\tdst = np.array([[0, 0], [side - 1, 0], [side - 1, side - 1], [0, side - 1]], dtype='float32')\n",
    "\n",
    "\t# Gets the transformation matrix for skewing the image to fit a square by comparing the 4 before and after points\n",
    "\tm = cv2.getPerspectiveTransform(src, dst)\n",
    "\n",
    "\t# Performs the transformation on the original image\n",
    "\treturn cv2.warpPerspective(img, m, (int(side), int(side)))\n"
   ]
  },
  {
   "cell_type": "code",
   "execution_count": 7,
   "metadata": {},
   "outputs": [],
   "source": [
    "def infer_grid(img):\n",
    "\t\"\"\"Infers 81 cell grid from a square image.\"\"\"\n",
    "\tsquares = []\n",
    "\tside = img.shape[:1]\n",
    "\tside = side[0] / 9\n",
    "\tfor i in range(9):\n",
    "\t\tfor j in range(9):\n",
    "\t\t\tp1 = (i * side, j * side)  # Top left corner of a bounding box\n",
    "\t\t\tp2 = ((i + 1) * side, (j + 1) * side)  # Bottom right corner of bounding box\n",
    "\t\t\tsquares.append((p1, p2))\n",
    "\treturn squares\n"
   ]
  },
  {
   "cell_type": "code",
   "execution_count": 8,
   "metadata": {},
   "outputs": [],
   "source": [
    "def display_rects(in_img, rects, colour=255):\n",
    "\t\"\"\"Displays rectangles on the image.\"\"\"\n",
    "\timg = in_img.copy()\n",
    "\tfor rect in rects:\n",
    "\t\timg = cv2.rectangle(img, tuple(int(x) for x in rect[0]), tuple(int(x) for x in rect[1]), colour)\n",
    "\tplot_many_images([img],['fasak'])\n",
    "\treturn img"
   ]
  },
  {
   "cell_type": "code",
   "execution_count": 21,
   "metadata": {},
   "outputs": [
    {
     "data": {
      "image/png": "[encoded data removed]",
      "text/plain": [
       "<Figure size 432x288 with 1 Axes>"
      ]
     },
     "metadata": {},
     "output_type": "display_data"
    },
    {
     "data": {
      "image/png": "[encoded data removed]",
      "text/plain": [
       "<Figure size 432x288 with 1 Axes>"
      ]
     },
     "metadata": {},
     "output_type": "display_data"
    }
   ],
   "source": [
    "img = cv2.imread('sudoku3.png', cv2.IMREAD_GRAYSCALE)\n",
    "processed = pre_process_image(img)\n",
    "corners = find_corners_of_largest_polygon(processed)\n",
    "cropped = crop_and_warp(img, corners)\n",
    "squares = infer_grid(cropped)\n",
    "img=display_rects(cropped, squares)\n",
    "resized = cv2.resize(img, (180,180), interpolation = cv2.INTER_AREA)\n",
    "img=resized[:20,20:40]\n",
    "plot_many_images([img],[\"dff\"])"
   ]
  },
  {
   "cell_type": "code",
   "execution_count": null,
   "metadata": {},
   "outputs": [],
   "source": []
  },
  {
   "cell_type": "code",
   "execution_count": null,
   "metadata": {},
   "outputs": [],
   "source": [
    "\n"
   ]
  },
  {
   "cell_type": "code",
   "execution_count": null,
   "metadata": {},
   "outputs": [],
   "source": []
  }
 ],
 "metadata": {
  "kernelspec": {
   "display_name": "Python 3",
   "language": "python",
   "name": "python3"
  },
  "language_info": {
   "codemirror_mode": {
    "name": "ipython",
    "version": 3
   },
   "file_extension": ".py",
   "mimetype": "text/x-python",
   "name": "python",
   "nbconvert_exporter": "python",
   "pygments_lexer": "ipython3",
   "version": "3.7.6"
  }
 },
 "nbformat": 4,
 "nbformat_minor": 4
}
